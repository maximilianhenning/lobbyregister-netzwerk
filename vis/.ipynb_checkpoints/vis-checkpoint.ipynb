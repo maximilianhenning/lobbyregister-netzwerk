{
 "cells": [
  {
   "cell_type": "code",
   "execution_count": 1,
   "id": "95a7015c",
   "metadata": {},
   "outputs": [],
   "source": [
    "import pandas as pd\n",
    "import networkx as nx\n",
    "from pyvis.network import Network\n",
    "import json"
   ]
  },
  {
   "cell_type": "code",
   "execution_count": 2,
   "id": "205439a0",
   "metadata": {},
   "outputs": [],
   "source": [
    "edges_df = pd.read_csv(\"../data/edges.csv\")\n",
    "nodes_df = pd.read_csv(\"../data/nodes.csv\")"
   ]
  },
  {
   "cell_type": "code",
   "execution_count": 11,
   "id": "6452475a",
   "metadata": {},
   "outputs": [],
   "source": [
    "nodes_df = nodes_df.loc[nodes_df[\"Id\"].notna()]\n",
    "nodes_df[\"type\"] = nodes_df[\"type\"].fillna(\"Keine Daten\")\n",
    "nodes_df[\"budget\"] = nodes_df[\"budget\"].fillna(0)\n",
    "nodes_df[\"Label\"] = nodes_df[\"Label\"].fillna(\"Keine Daten\")"
   ]
  },
  {
   "cell_type": "code",
   "execution_count": 12,
   "id": "d23a0ef9",
   "metadata": {},
   "outputs": [],
   "source": [
    "category_colours = {\n",
    "    \"Verein/Verband\": '#00ff1e',\n",
    "    \"Unternehmen\": '#162347',\n",
    "    \"Consulting\": '#dd4b39',\n",
    "    \"Keine Daten\": \"#000000\"\n",
    "}"
   ]
  },
  {
   "cell_type": "code",
   "execution_count": 13,
   "id": "820708fb",
   "metadata": {},
   "outputs": [],
   "source": [
    "G = nx.Graph()"
   ]
  },
  {
   "cell_type": "code",
   "execution_count": 43,
   "id": "9cdf1b06",
   "metadata": {},
   "outputs": [],
   "source": [
    "nodes_list = nodes_df[\"Id\"].tolist()\n",
    "for index, row in nodes_df.iterrows():\n",
    "    G.add_node(row[\"Id\"], size = row[\"budget\"] / 50000, title = row[\"Label\"], type = row[\"type\"])\n",
    "for index, row in edges_df.iterrows():\n",
    "    if row[\"Source\"] in nodes_list and row[\"Target\"] in nodes_list:\n",
    "        G.add_edge(row[\"Source\"], row[\"Target\"])"
   ]
  },
  {
   "cell_type": "code",
   "execution_count": 44,
   "id": "0948721e",
   "metadata": {},
   "outputs": [],
   "source": [
    "pos = nx.spring_layout(G, iterations = 50)"
   ]
  },
  {
   "cell_type": "code",
   "execution_count": 47,
   "id": "48744acf",
   "metadata": {},
   "outputs": [
    {
     "name": "stdout",
     "output_type": "stream",
     "text": [
      "Warning: When  cdn_resources is 'local' jupyter notebook has issues displaying graphics on chrome/safari. Use cdn_resources='in_line' or cdn_resources='remote' if you have issues viewing graphics in a notebook.\n",
      "net.html\n"
     ]
    },
    {
     "data": {
      "text/html": [
       "\n",
       "        <iframe\n",
       "            width=\"100%\"\n",
       "            height=\"600px\"\n",
       "            src=\"net.html\"\n",
       "            frameborder=\"0\"\n",
       "            allowfullscreen\n",
       "            \n",
       "        ></iframe>\n",
       "        "
      ],
      "text/plain": [
       "<IPython.lib.display.IFrame at 0x216b0939670>"
      ]
     },
     "execution_count": 47,
     "metadata": {},
     "output_type": "execute_result"
    }
   ],
   "source": [
    "net = Network(\n",
    "    notebook = True,\n",
    "    select_menu = True,\n",
    "    filter_menu = True\n",
    ")\n",
    "for node_id, position in pos.items():\n",
    "    net.add_node(\n",
    "        node_id, \n",
    "        x = position[0] * 50000, \n",
    "        y = position[1] * 50000,\n",
    "        size = G.nodes[node_id][\"size\"],\n",
    "        label = G.nodes[node_id][\"title\"],\n",
    "        type = G.nodes[node_id][\"type\"],\n",
    "        color = category_colours[G.nodes[node_id][\"type\"]]\n",
    "    )\n",
    "for edge in G.edges():\n",
    "    net.add_edge(*edge)\n",
    "net.toggle_physics(False)\n",
    "net.inherit_edge_colors(False)\n",
    "net.show('net.html')"
   ]
  },
  {
   "cell_type": "code",
   "execution_count": null,
   "id": "2fcdad60",
   "metadata": {},
   "outputs": [],
   "source": []
  }
 ],
 "metadata": {
  "kernelspec": {
   "display_name": "Python 3 (ipykernel)",
   "language": "python",
   "name": "python3"
  },
  "language_info": {
   "codemirror_mode": {
    "name": "ipython",
    "version": 3
   },
   "file_extension": ".py",
   "mimetype": "text/x-python",
   "name": "python",
   "nbconvert_exporter": "python",
   "pygments_lexer": "ipython3",
   "version": "3.9.12"
  }
 },
 "nbformat": 4,
 "nbformat_minor": 5
}
